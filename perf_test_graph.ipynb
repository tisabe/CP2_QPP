{
 "cells": [
  {
   "cell_type": "markdown",
   "metadata": {},
   "source": [
    "# IPython Notebook to plot the computation time depending on the number of lattice points"
   ]
  },
  {
   "cell_type": "markdown",
   "metadata": {},
   "source": [
    "## Importing the required libraries"
   ]
  },
  {
   "cell_type": "code",
   "execution_count": 2,
   "metadata": {},
   "outputs": [],
   "source": [
    "import matplotlib.pyplot as plt\n",
    "import matplotlib.animation\n",
    "import numpy as np\n",
    "from IPython.display import display, clear_output"
   ]
  },
  {
   "cell_type": "markdown",
   "metadata": {},
   "source": [
    "## Set the path/ filename here"
   ]
  },
  {
   "cell_type": "code",
   "execution_count": 3,
   "metadata": {},
   "outputs": [],
   "source": [
    "inputfilePath = 'perf_test_output.txt'"
   ]
  },
  {
   "cell_type": "markdown",
   "metadata": {},
   "source": [
    "## Read the data from the file and save it in an numpy array"
   ]
  },
  {
   "cell_type": "code",
   "execution_count": 4,
   "metadata": {},
   "outputs": [],
   "source": [
    "perfData = [] #Array to save the imaginary part of the wave functions\n",
    "with open(inputfilePath,'r') as inputfile:\n",
    "    for line in inputfile:\n",
    "        perfData.append(line.strip().split('\\t'))\n",
    "    legends = perfData[0]\n",
    "    del perfData[0]\n",
    "    for j in range(len(perfData)):\n",
    "        perfData[j] = [float(perfData[j][i]) for i in range(len(perfData[0]))]\n",
    "    perfData = np.array(perfData).T"
   ]
  },
  {
   "cell_type": "markdown",
   "metadata": {},
   "source": [
    "## Generate the plot which shows the absolute computation time"
   ]
  },
  {
   "cell_type": "code",
   "execution_count": 22,
   "metadata": {
    "scrolled": true
   },
   "outputs": [],
   "source": [
    "%matplotlib qt5\n",
    "x = perfData[0]\n",
    "\n",
    "for i in range(1,5):\n",
    "    plt.loglog(x,perfData[i], label=\"%s\"%legends[i], marker=\"*\", basex=2)\n",
    "\n",
    "plt.xlabel(\"N\")\n",
    "plt.ylabel(\"Computation time [s]\")\n",
    "plt.legend()\n",
    "plt.show()"
   ]
  },
  {
   "cell_type": "markdown",
   "metadata": {},
   "source": [
    "## Generate the plot which shows the computation time relative to the Static next neighbour array implementation"
   ]
  },
  {
   "cell_type": "code",
   "execution_count": 23,
   "metadata": {},
   "outputs": [],
   "source": [
    "%matplotlib qt5\n",
    "x = perfData[0]\n",
    "\n",
    "for i in range(1,5):\n",
    "    plt.semilogx(x, perfData[1]/perfData[i], label=\"%s\"%legends[i], marker=\"*\", basex=2)\n",
    "\n",
    "plt.xlabel(\"N\")\n",
    "plt.ylabel(\"Speedup relative to Static nn array\")\n",
    "plt.legend()\n",
    "plt.show()"
   ]
  },
  {
   "cell_type": "code",
   "execution_count": null,
   "metadata": {},
   "outputs": [],
   "source": []
  }
 ],
 "metadata": {
  "kernelspec": {
   "display_name": "Python 3",
   "language": "python",
   "name": "python3"
  },
  "language_info": {
   "codemirror_mode": {
    "name": "ipython",
    "version": 3
   },
   "file_extension": ".py",
   "mimetype": "text/x-python",
   "name": "python",
   "nbconvert_exporter": "python",
   "pygments_lexer": "ipython3",
   "version": "3.7.3"
  }
 },
 "nbformat": 4,
 "nbformat_minor": 2
}
